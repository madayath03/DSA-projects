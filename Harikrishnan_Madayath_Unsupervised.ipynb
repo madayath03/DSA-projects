{
 "cells": [
  {
   "cell_type": "code",
   "execution_count": 1,
   "id": "c9c403b1",
   "metadata": {},
   "outputs": [],
   "source": [
    "import numpy as np\n",
    "import pandas as pd\n",
    "import matplotlib.pyplot as plt\n",
    "%matplotlib inline\n",
    "import seaborn as sns"
   ]
  },
  {
   "cell_type": "code",
   "execution_count": 2,
   "id": "9f064085",
   "metadata": {
    "scrolled": true
   },
   "outputs": [
    {
     "data": {
      "text/html": [
       "<div>\n",
       "<style scoped>\n",
       "    .dataframe tbody tr th:only-of-type {\n",
       "        vertical-align: middle;\n",
       "    }\n",
       "\n",
       "    .dataframe tbody tr th {\n",
       "        vertical-align: top;\n",
       "    }\n",
       "\n",
       "    .dataframe thead th {\n",
       "        text-align: right;\n",
       "    }\n",
       "</style>\n",
       "<table border=\"1\" class=\"dataframe\">\n",
       "  <thead>\n",
       "    <tr style=\"text-align: right;\">\n",
       "      <th></th>\n",
       "      <th>Alcohol</th>\n",
       "      <th>Malic_Acid</th>\n",
       "      <th>Ash</th>\n",
       "      <th>Ash_Alcanity</th>\n",
       "      <th>Magnesium</th>\n",
       "      <th>Total_Phenols</th>\n",
       "      <th>Flavanoids</th>\n",
       "      <th>Nonflavanoid_Phenols</th>\n",
       "      <th>Proanthocyanins</th>\n",
       "      <th>Color_Intensity</th>\n",
       "      <th>Hue</th>\n",
       "      <th>OD280</th>\n",
       "      <th>Proline</th>\n",
       "    </tr>\n",
       "  </thead>\n",
       "  <tbody>\n",
       "    <tr>\n",
       "      <th>0</th>\n",
       "      <td>14.23</td>\n",
       "      <td>1.71</td>\n",
       "      <td>2.43</td>\n",
       "      <td>15.6</td>\n",
       "      <td>127</td>\n",
       "      <td>2.80</td>\n",
       "      <td>3.06</td>\n",
       "      <td>0.28</td>\n",
       "      <td>2.29</td>\n",
       "      <td>5.64</td>\n",
       "      <td>1.04</td>\n",
       "      <td>3.92</td>\n",
       "      <td>1065</td>\n",
       "    </tr>\n",
       "    <tr>\n",
       "      <th>1</th>\n",
       "      <td>13.20</td>\n",
       "      <td>1.78</td>\n",
       "      <td>2.14</td>\n",
       "      <td>11.2</td>\n",
       "      <td>100</td>\n",
       "      <td>2.65</td>\n",
       "      <td>2.76</td>\n",
       "      <td>0.26</td>\n",
       "      <td>1.28</td>\n",
       "      <td>4.38</td>\n",
       "      <td>1.05</td>\n",
       "      <td>3.40</td>\n",
       "      <td>1050</td>\n",
       "    </tr>\n",
       "    <tr>\n",
       "      <th>2</th>\n",
       "      <td>13.16</td>\n",
       "      <td>2.36</td>\n",
       "      <td>2.67</td>\n",
       "      <td>18.6</td>\n",
       "      <td>101</td>\n",
       "      <td>2.80</td>\n",
       "      <td>3.24</td>\n",
       "      <td>0.30</td>\n",
       "      <td>2.81</td>\n",
       "      <td>5.68</td>\n",
       "      <td>1.03</td>\n",
       "      <td>3.17</td>\n",
       "      <td>1185</td>\n",
       "    </tr>\n",
       "    <tr>\n",
       "      <th>3</th>\n",
       "      <td>14.37</td>\n",
       "      <td>1.95</td>\n",
       "      <td>2.50</td>\n",
       "      <td>16.8</td>\n",
       "      <td>113</td>\n",
       "      <td>3.85</td>\n",
       "      <td>3.49</td>\n",
       "      <td>0.24</td>\n",
       "      <td>2.18</td>\n",
       "      <td>7.80</td>\n",
       "      <td>0.86</td>\n",
       "      <td>3.45</td>\n",
       "      <td>1480</td>\n",
       "    </tr>\n",
       "    <tr>\n",
       "      <th>4</th>\n",
       "      <td>13.24</td>\n",
       "      <td>2.59</td>\n",
       "      <td>2.87</td>\n",
       "      <td>21.0</td>\n",
       "      <td>118</td>\n",
       "      <td>2.80</td>\n",
       "      <td>2.69</td>\n",
       "      <td>0.39</td>\n",
       "      <td>1.82</td>\n",
       "      <td>4.32</td>\n",
       "      <td>1.04</td>\n",
       "      <td>2.93</td>\n",
       "      <td>735</td>\n",
       "    </tr>\n",
       "  </tbody>\n",
       "</table>\n",
       "</div>"
      ],
      "text/plain": [
       "   Alcohol  Malic_Acid   Ash  Ash_Alcanity  Magnesium  Total_Phenols  \\\n",
       "0    14.23        1.71  2.43          15.6        127           2.80   \n",
       "1    13.20        1.78  2.14          11.2        100           2.65   \n",
       "2    13.16        2.36  2.67          18.6        101           2.80   \n",
       "3    14.37        1.95  2.50          16.8        113           3.85   \n",
       "4    13.24        2.59  2.87          21.0        118           2.80   \n",
       "\n",
       "   Flavanoids  Nonflavanoid_Phenols  Proanthocyanins  Color_Intensity   Hue  \\\n",
       "0        3.06                  0.28             2.29             5.64  1.04   \n",
       "1        2.76                  0.26             1.28             4.38  1.05   \n",
       "2        3.24                  0.30             2.81             5.68  1.03   \n",
       "3        3.49                  0.24             2.18             7.80  0.86   \n",
       "4        2.69                  0.39             1.82             4.32  1.04   \n",
       "\n",
       "   OD280  Proline  \n",
       "0   3.92     1065  \n",
       "1   3.40     1050  \n",
       "2   3.17     1185  \n",
       "3   3.45     1480  \n",
       "4   2.93      735  "
      ]
     },
     "execution_count": 2,
     "metadata": {},
     "output_type": "execute_result"
    }
   ],
   "source": [
    "oo = pd.read_csv('C:/Users/HARIKRISHNAN M/Downloads/Wine_clust.csv')\n",
    "oo.head()"
   ]
  },
  {
   "cell_type": "markdown",
   "id": "9f6b4a7b",
   "metadata": {},
   "source": [
    "# Missing Value detection"
   ]
  },
  {
   "cell_type": "code",
   "execution_count": 3,
   "id": "9efdf3b9",
   "metadata": {},
   "outputs": [
    {
     "data": {
      "text/plain": [
       "Alcohol                 0\n",
       "Malic_Acid              0\n",
       "Ash                     0\n",
       "Ash_Alcanity            0\n",
       "Magnesium               0\n",
       "Total_Phenols           0\n",
       "Flavanoids              0\n",
       "Nonflavanoid_Phenols    0\n",
       "Proanthocyanins         0\n",
       "Color_Intensity         0\n",
       "Hue                     0\n",
       "OD280                   0\n",
       "Proline                 0\n",
       "dtype: int64"
      ]
     },
     "execution_count": 3,
     "metadata": {},
     "output_type": "execute_result"
    }
   ],
   "source": [
    "oo.isna().sum()"
   ]
  },
  {
   "cell_type": "markdown",
   "id": "58a24775",
   "metadata": {},
   "source": [
    "### No missing value found"
   ]
  },
  {
   "cell_type": "code",
   "execution_count": 4,
   "id": "305ba8f8",
   "metadata": {
    "scrolled": true
   },
   "outputs": [
    {
     "data": {
      "text/html": [
       "<div>\n",
       "<style scoped>\n",
       "    .dataframe tbody tr th:only-of-type {\n",
       "        vertical-align: middle;\n",
       "    }\n",
       "\n",
       "    .dataframe tbody tr th {\n",
       "        vertical-align: top;\n",
       "    }\n",
       "\n",
       "    .dataframe thead th {\n",
       "        text-align: right;\n",
       "    }\n",
       "</style>\n",
       "<table border=\"1\" class=\"dataframe\">\n",
       "  <thead>\n",
       "    <tr style=\"text-align: right;\">\n",
       "      <th></th>\n",
       "      <th>Alcohol</th>\n",
       "      <th>Malic_Acid</th>\n",
       "      <th>Ash</th>\n",
       "      <th>Ash_Alcanity</th>\n",
       "      <th>Magnesium</th>\n",
       "      <th>Total_Phenols</th>\n",
       "      <th>Flavanoids</th>\n",
       "      <th>Nonflavanoid_Phenols</th>\n",
       "      <th>Proanthocyanins</th>\n",
       "      <th>Color_Intensity</th>\n",
       "      <th>Hue</th>\n",
       "      <th>OD280</th>\n",
       "      <th>Proline</th>\n",
       "    </tr>\n",
       "  </thead>\n",
       "  <tbody>\n",
       "    <tr>\n",
       "      <th>count</th>\n",
       "      <td>178.000000</td>\n",
       "      <td>178.000000</td>\n",
       "      <td>178.000000</td>\n",
       "      <td>178.000000</td>\n",
       "      <td>178.000000</td>\n",
       "      <td>178.000000</td>\n",
       "      <td>178.000000</td>\n",
       "      <td>178.000000</td>\n",
       "      <td>178.000000</td>\n",
       "      <td>178.000000</td>\n",
       "      <td>178.000000</td>\n",
       "      <td>178.000000</td>\n",
       "      <td>178.000000</td>\n",
       "    </tr>\n",
       "    <tr>\n",
       "      <th>mean</th>\n",
       "      <td>13.000618</td>\n",
       "      <td>2.336348</td>\n",
       "      <td>2.366517</td>\n",
       "      <td>19.494944</td>\n",
       "      <td>99.741573</td>\n",
       "      <td>2.295112</td>\n",
       "      <td>2.029270</td>\n",
       "      <td>0.361854</td>\n",
       "      <td>1.590899</td>\n",
       "      <td>5.058090</td>\n",
       "      <td>0.957449</td>\n",
       "      <td>2.611685</td>\n",
       "      <td>746.893258</td>\n",
       "    </tr>\n",
       "    <tr>\n",
       "      <th>std</th>\n",
       "      <td>0.811827</td>\n",
       "      <td>1.117146</td>\n",
       "      <td>0.274344</td>\n",
       "      <td>3.339564</td>\n",
       "      <td>14.282484</td>\n",
       "      <td>0.625851</td>\n",
       "      <td>0.998859</td>\n",
       "      <td>0.124453</td>\n",
       "      <td>0.572359</td>\n",
       "      <td>2.318286</td>\n",
       "      <td>0.228572</td>\n",
       "      <td>0.709990</td>\n",
       "      <td>314.907474</td>\n",
       "    </tr>\n",
       "    <tr>\n",
       "      <th>min</th>\n",
       "      <td>11.030000</td>\n",
       "      <td>0.740000</td>\n",
       "      <td>1.360000</td>\n",
       "      <td>10.600000</td>\n",
       "      <td>70.000000</td>\n",
       "      <td>0.980000</td>\n",
       "      <td>0.340000</td>\n",
       "      <td>0.130000</td>\n",
       "      <td>0.410000</td>\n",
       "      <td>1.280000</td>\n",
       "      <td>0.480000</td>\n",
       "      <td>1.270000</td>\n",
       "      <td>278.000000</td>\n",
       "    </tr>\n",
       "    <tr>\n",
       "      <th>25%</th>\n",
       "      <td>12.362500</td>\n",
       "      <td>1.602500</td>\n",
       "      <td>2.210000</td>\n",
       "      <td>17.200000</td>\n",
       "      <td>88.000000</td>\n",
       "      <td>1.742500</td>\n",
       "      <td>1.205000</td>\n",
       "      <td>0.270000</td>\n",
       "      <td>1.250000</td>\n",
       "      <td>3.220000</td>\n",
       "      <td>0.782500</td>\n",
       "      <td>1.937500</td>\n",
       "      <td>500.500000</td>\n",
       "    </tr>\n",
       "    <tr>\n",
       "      <th>50%</th>\n",
       "      <td>13.050000</td>\n",
       "      <td>1.865000</td>\n",
       "      <td>2.360000</td>\n",
       "      <td>19.500000</td>\n",
       "      <td>98.000000</td>\n",
       "      <td>2.355000</td>\n",
       "      <td>2.135000</td>\n",
       "      <td>0.340000</td>\n",
       "      <td>1.555000</td>\n",
       "      <td>4.690000</td>\n",
       "      <td>0.965000</td>\n",
       "      <td>2.780000</td>\n",
       "      <td>673.500000</td>\n",
       "    </tr>\n",
       "    <tr>\n",
       "      <th>75%</th>\n",
       "      <td>13.677500</td>\n",
       "      <td>3.082500</td>\n",
       "      <td>2.557500</td>\n",
       "      <td>21.500000</td>\n",
       "      <td>107.000000</td>\n",
       "      <td>2.800000</td>\n",
       "      <td>2.875000</td>\n",
       "      <td>0.437500</td>\n",
       "      <td>1.950000</td>\n",
       "      <td>6.200000</td>\n",
       "      <td>1.120000</td>\n",
       "      <td>3.170000</td>\n",
       "      <td>985.000000</td>\n",
       "    </tr>\n",
       "    <tr>\n",
       "      <th>max</th>\n",
       "      <td>14.830000</td>\n",
       "      <td>5.800000</td>\n",
       "      <td>3.230000</td>\n",
       "      <td>30.000000</td>\n",
       "      <td>162.000000</td>\n",
       "      <td>3.880000</td>\n",
       "      <td>5.080000</td>\n",
       "      <td>0.660000</td>\n",
       "      <td>3.580000</td>\n",
       "      <td>13.000000</td>\n",
       "      <td>1.710000</td>\n",
       "      <td>4.000000</td>\n",
       "      <td>1680.000000</td>\n",
       "    </tr>\n",
       "  </tbody>\n",
       "</table>\n",
       "</div>"
      ],
      "text/plain": [
       "          Alcohol  Malic_Acid         Ash  Ash_Alcanity   Magnesium  \\\n",
       "count  178.000000  178.000000  178.000000    178.000000  178.000000   \n",
       "mean    13.000618    2.336348    2.366517     19.494944   99.741573   \n",
       "std      0.811827    1.117146    0.274344      3.339564   14.282484   \n",
       "min     11.030000    0.740000    1.360000     10.600000   70.000000   \n",
       "25%     12.362500    1.602500    2.210000     17.200000   88.000000   \n",
       "50%     13.050000    1.865000    2.360000     19.500000   98.000000   \n",
       "75%     13.677500    3.082500    2.557500     21.500000  107.000000   \n",
       "max     14.830000    5.800000    3.230000     30.000000  162.000000   \n",
       "\n",
       "       Total_Phenols  Flavanoids  Nonflavanoid_Phenols  Proanthocyanins  \\\n",
       "count     178.000000  178.000000            178.000000       178.000000   \n",
       "mean        2.295112    2.029270              0.361854         1.590899   \n",
       "std         0.625851    0.998859              0.124453         0.572359   \n",
       "min         0.980000    0.340000              0.130000         0.410000   \n",
       "25%         1.742500    1.205000              0.270000         1.250000   \n",
       "50%         2.355000    2.135000              0.340000         1.555000   \n",
       "75%         2.800000    2.875000              0.437500         1.950000   \n",
       "max         3.880000    5.080000              0.660000         3.580000   \n",
       "\n",
       "       Color_Intensity         Hue       OD280      Proline  \n",
       "count       178.000000  178.000000  178.000000   178.000000  \n",
       "mean          5.058090    0.957449    2.611685   746.893258  \n",
       "std           2.318286    0.228572    0.709990   314.907474  \n",
       "min           1.280000    0.480000    1.270000   278.000000  \n",
       "25%           3.220000    0.782500    1.937500   500.500000  \n",
       "50%           4.690000    0.965000    2.780000   673.500000  \n",
       "75%           6.200000    1.120000    3.170000   985.000000  \n",
       "max          13.000000    1.710000    4.000000  1680.000000  "
      ]
     },
     "execution_count": 4,
     "metadata": {},
     "output_type": "execute_result"
    }
   ],
   "source": [
    "oo.describe()"
   ]
  },
  {
   "cell_type": "code",
   "execution_count": 5,
   "id": "5d37cf9c",
   "metadata": {},
   "outputs": [
    {
     "data": {
      "text/plain": [
       "Index(['Alcohol', 'Malic_Acid', 'Ash', 'Ash_Alcanity', 'Magnesium',\n",
       "       'Total_Phenols', 'Flavanoids', 'Nonflavanoid_Phenols',\n",
       "       'Proanthocyanins', 'Color_Intensity', 'Hue', 'OD280', 'Proline'],\n",
       "      dtype='object')"
      ]
     },
     "execution_count": 5,
     "metadata": {},
     "output_type": "execute_result"
    }
   ],
   "source": [
    "oo.columns"
   ]
  },
  {
   "cell_type": "markdown",
   "id": "d208e4b9",
   "metadata": {},
   "source": [
    "# Scaling using Min Max Scaling"
   ]
  },
  {
   "cell_type": "code",
   "execution_count": 6,
   "id": "fa98aefa",
   "metadata": {},
   "outputs": [],
   "source": [
    "X = oo\n",
    "from sklearn.preprocessing import MinMaxScaler\n",
    "minmax = MinMaxScaler(feature_range=(0,1))\n",
    "X = minmax.fit_transform(X)"
   ]
  },
  {
   "cell_type": "code",
   "execution_count": 7,
   "id": "db7d988e",
   "metadata": {},
   "outputs": [],
   "source": [
    "X = pd.DataFrame(X, columns = ['Alcohol', 'Malic_Acid', 'Ash', 'Ash_Alcanity', 'Magnesium',\n",
    "       'Total_Phenols', 'Flavanoids', 'Nonflavanoid_Phenols',\n",
    "       'Proanthocyanins', 'Color_Intensity', 'Hue', 'OD280', 'Proline'])"
   ]
  },
  {
   "cell_type": "markdown",
   "id": "9f349149",
   "metadata": {},
   "source": [
    "## KMeans Clustering"
   ]
  },
  {
   "cell_type": "code",
   "execution_count": 8,
   "id": "e975d51b",
   "metadata": {
    "scrolled": false
   },
   "outputs": [
    {
     "name": "stderr",
     "output_type": "stream",
     "text": [
      "C:\\Users\\HARIKRISHNAN M\\anaconda3\\lib\\site-packages\\sklearn\\cluster\\_kmeans.py:1036: UserWarning: KMeans is known to have a memory leak on Windows with MKL, when there are less chunks than available threads. You can avoid it by setting the environment variable OMP_NUM_THREADS=1.\n",
      "  warnings.warn(\n"
     ]
    },
    {
     "data": {
      "image/png": "[encoded data removed]",
      "text/plain": [
       "<Figure size 640x480 with 1 Axes>"
      ]
     },
     "metadata": {},
     "output_type": "display_data"
    }
   ],
   "source": [
    "from sklearn.cluster import KMeans\n",
    "wcss= []\n",
    "for i in range(1,11):\n",
    "    kmeans = KMeans(n_clusters = i,init = 'k-means++', random_state = 42)\n",
    "    kmeans.fit(X)\n",
    "    wcss.append(kmeans.inertia_)\n",
    "plt.plot(range(1,11),wcss)\n",
    "plt.title('The elbow method')\n",
    "plt.xlabel('Number of clusters')\n",
    "plt.ylabel('WCSS')\n",
    "plt.show();"
   ]
  },
  {
   "cell_type": "markdown",
   "id": "b75dcb0b",
   "metadata": {},
   "source": [
    "#### We get 3 clusters"
   ]
  },
  {
   "cell_type": "code",
   "execution_count": 9,
   "id": "9789d31b",
   "metadata": {},
   "outputs": [
    {
     "name": "stdout",
     "output_type": "stream",
     "text": [
      "[2 2 2 2 2 2 2 2 2 2 2 2 2 2 2 2 2 2 2 2 2 2 2 2 2 2 2 2 2 2 2 2 2 2 2 2 2\n",
      " 2 2 2 2 2 2 2 2 2 2 2 2 2 2 2 2 2 2 2 2 2 2 0 1 1 0 0 0 0 0 0 1 0 1 0 0 2\n",
      " 0 0 0 0 0 0 0 0 0 1 0 0 0 0 0 0 0 0 1 0 0 2 0 0 0 0 0 0 0 0 0 0 0 0 0 0 0\n",
      " 0 0 0 0 0 0 0 1 0 0 0 0 0 0 0 0 0 0 0 1 1 1 1 1 1 1 1 1 1 1 1 1 1 1 1 1 1\n",
      " 1 1 1 1 1 1 1 1 1 1 1 1 1 1 1 1 1 1 1 1 1 1 1 1 1 1 1 1 1 1]\n",
      "[0 1 2]\n"
     ]
    }
   ],
   "source": [
    "kmeans = KMeans(n_clusters = 3,init = 'k-means++', random_state = 42)\n",
    "y_kmeans = kmeans.fit_predict(X)\n",
    "print(y_kmeans)\n",
    "print(np.unique(y_kmeans))"
   ]
  },
  {
   "cell_type": "markdown",
   "id": "037028ef",
   "metadata": {},
   "source": [
    "### Silhouette score"
   ]
  },
  {
   "cell_type": "code",
   "execution_count": 10,
   "id": "83a4a461",
   "metadata": {},
   "outputs": [
    {
     "data": {
      "text/plain": [
       "0.3008938518500134"
      ]
     },
     "execution_count": 10,
     "metadata": {},
     "output_type": "execute_result"
    }
   ],
   "source": [
    "from sklearn.metrics import silhouette_score\n",
    "sil_kmeans = silhouette_score(X,y_kmeans)\n",
    "sil_kmeans"
   ]
  },
  {
   "cell_type": "markdown",
   "id": "9ce4b8c6",
   "metadata": {},
   "source": [
    "### Davies Bouldin Index"
   ]
  },
  {
   "cell_type": "code",
   "execution_count": 11,
   "id": "086e8897",
   "metadata": {},
   "outputs": [
    {
     "data": {
      "text/plain": [
       "1.3086395800210662"
      ]
     },
     "execution_count": 11,
     "metadata": {},
     "output_type": "execute_result"
    }
   ],
   "source": [
    "from sklearn.metrics import davies_bouldin_score\n",
    "dav_kmeans = davies_bouldin_score(X, y_kmeans)\n",
    "dav_kmeans"
   ]
  },
  {
   "cell_type": "markdown",
   "id": "e44cb275",
   "metadata": {},
   "source": [
    "### Dunn's Index cannot be calculated"
   ]
  },
  {
   "cell_type": "markdown",
   "id": "c8a437f8",
   "metadata": {},
   "source": [
    "### calinski_harabasz_score"
   ]
  },
  {
   "cell_type": "code",
   "execution_count": 37,
   "id": "ac9996b0",
   "metadata": {},
   "outputs": [
    {
     "name": "stdout",
     "output_type": "stream",
     "text": [
      "Calinski-Harabasz index: 83.35112750771908\n"
     ]
    }
   ],
   "source": [
    "from sklearn.metrics import calinski_harabasz_score\n",
    "# Calculate the Calinski-Harabasz index\n",
    "score = calinski_harabasz_score(X, y_kmeans)\n",
    "\n",
    "print(\"Calinski-Harabasz index:\", score)"
   ]
  },
  {
   "cell_type": "markdown",
   "id": "e27254c2",
   "metadata": {},
   "source": [
    "## Agglomeratice HC"
   ]
  },
  {
   "cell_type": "code",
   "execution_count": 49,
   "id": "8b4a4b2c",
   "metadata": {
    "scrolled": false
   },
   "outputs": [
    {
     "data": {
      "image/png": "[encoded data removed]",
      "text/plain": [
       "<Figure size 640x480 with 1 Axes>"
      ]
     },
     "metadata": {},
     "output_type": "display_data"
    }
   ],
   "source": [
    "import scipy.cluster.hierarchy as sch\n",
    "dendrogram = sch.dendrogram(sch.linkage(X, method='ward'))\n",
    "plt.title('Dendrogram')\n",
    "plt.xlabel('Customer')\n",
    "plt.ylabel('Euclidean distance')\n",
    "plt.show();"
   ]
  },
  {
   "cell_type": "markdown",
   "id": "4301c6b6",
   "metadata": {},
   "source": [
    "#### We get 3 clusters"
   ]
  },
  {
   "cell_type": "code",
   "execution_count": 110,
   "id": "e4fdbb91",
   "metadata": {},
   "outputs": [
    {
     "name": "stdout",
     "output_type": "stream",
     "text": [
      "[2 2 2 2 0 2 2 2 2 2 2 2 2 2 2 2 2 2 2 2 2 2 2 2 2 0 2 2 2 2 2 2 2 2 2 2 2\n",
      " 2 2 2 2 2 2 2 2 2 2 2 2 2 2 2 2 2 2 2 2 2 2 0 0 0 0 0 0 0 0 0 0 0 0 0 0 0\n",
      " 0 0 0 0 0 0 0 0 0 1 0 0 0 0 0 0 0 0 0 0 0 0 0 0 0 0 0 0 0 0 0 0 0 0 0 0 0\n",
      " 0 0 0 0 0 0 0 1 0 0 0 0 0 0 0 0 0 0 0 1 1 1 1 1 1 1 1 1 1 1 1 1 1 1 1 1 1\n",
      " 1 1 1 1 1 1 1 1 1 1 1 1 1 1 1 1 1 1 1 1 1 1 1 1 1 1 1 1 1 1]\n",
      "[0 1 2]\n"
     ]
    }
   ],
   "source": [
    "from sklearn.cluster import AgglomerativeClustering\n",
    "hc = AgglomerativeClustering(n_clusters = 3, affinity = 'euclidean', linkage = 'ward')\n",
    "y_hc = hc.fit_predict(X)\n",
    "print(y_hc)\n",
    "print(np.unique(y_hc))"
   ]
  },
  {
   "cell_type": "markdown",
   "id": "938e4f32",
   "metadata": {},
   "source": [
    "### Silhouette Score"
   ]
  },
  {
   "cell_type": "code",
   "execution_count": 51,
   "id": "bfdca232",
   "metadata": {},
   "outputs": [
    {
     "data": {
      "text/plain": [
       "0.2948290632158541"
      ]
     },
     "execution_count": 51,
     "metadata": {},
     "output_type": "execute_result"
    }
   ],
   "source": [
    "from sklearn.metrics import silhouette_score\n",
    "sil_hc = silhouette_score(X,y_hc)\n",
    "sil_hc"
   ]
  },
  {
   "cell_type": "markdown",
   "id": "2731c0fc",
   "metadata": {},
   "source": [
    "### Davies Bouldin Index"
   ]
  },
  {
   "cell_type": "code",
   "execution_count": 52,
   "id": "35e406b0",
   "metadata": {},
   "outputs": [
    {
     "data": {
      "text/plain": [
       "1.3183111453428589"
      ]
     },
     "execution_count": 52,
     "metadata": {},
     "output_type": "execute_result"
    }
   ],
   "source": [
    "from sklearn.metrics import davies_bouldin_score\n",
    "dav_hc = davies_bouldin_score(X, y_hc)\n",
    "dav_hc"
   ]
  },
  {
   "cell_type": "markdown",
   "id": "3dfca526",
   "metadata": {},
   "source": [
    "### calinski_harabasz_score"
   ]
  },
  {
   "cell_type": "code",
   "execution_count": 101,
   "id": "d185926e",
   "metadata": {},
   "outputs": [
    {
     "name": "stdout",
     "output_type": "stream",
     "text": [
      "Calinski-Harabasz index: 81.32763860672199\n"
     ]
    }
   ],
   "source": [
    "from sklearn.metrics import calinski_harabasz_score\n",
    "# Calculate the Calinski-Harabasz index\n",
    "score = calinski_harabasz_score(X, y_hc)\n",
    "\n",
    "print(\"Calinski-Harabasz index:\", score)"
   ]
  },
  {
   "cell_type": "markdown",
   "id": "184c77c9",
   "metadata": {},
   "source": [
    "### Dunn's Index"
   ]
  },
  {
   "cell_type": "code",
   "execution_count": 119,
   "id": "9fe18423",
   "metadata": {},
   "outputs": [
    {
     "name": "stdout",
     "output_type": "stream",
     "text": [
      "The Dunn's Index: 0.4955365272645076\n"
     ]
    }
   ],
   "source": [
    "# We store the K-means results in a dataframe\n",
    "pred = pd.DataFrame(y_hc)\n",
    "pred.columns = ['Type']\n",
    "\n",
    "# we merge this dataframe with df\n",
    "prediction = pd.concat([X, pred], axis = 1)\n",
    " \n",
    "# We store the clusters\n",
    "clus0 = prediction.loc[prediction.Type == 0]\n",
    "clus1 = prediction.loc[prediction.Type == 1]\n",
    "clus2 = prediction.loc[prediction.Type == 2]\n",
    "k_list = [clus0.values, clus1.values,clus2.values]\n",
    "k_list\n",
    "\n",
    "# Dunn's Index\n",
    "print(\"The Dunn's Index:\", dunn(k_list))"
   ]
  },
  {
   "cell_type": "markdown",
   "id": "639265b7",
   "metadata": {},
   "source": [
    "## DBSCAN Clustering"
   ]
  },
  {
   "cell_type": "code",
   "execution_count": 53,
   "id": "6a279f98",
   "metadata": {},
   "outputs": [
    {
     "data": {
      "text/plain": [
       "2"
      ]
     },
     "execution_count": 53,
     "metadata": {},
     "output_type": "execute_result"
    }
   ],
   "source": [
    "X.ndim #to check dimension for getting minpoints or min_samples"
   ]
  },
  {
   "cell_type": "code",
   "execution_count": 54,
   "id": "e4242109",
   "metadata": {},
   "outputs": [
    {
     "data": {
      "image/png": "[encoded data removed]",
      "text/plain": [
       "<Figure size 500x300 with 1 Axes>"
      ]
     },
     "metadata": {},
     "output_type": "display_data"
    }
   ],
   "source": [
    "from sklearn.neighbors import NearestNeighbors # importing the library\n",
    "neighb = NearestNeighbors(n_neighbors=20) # creating an object of the NearestNeighbors class\n",
    "nbrs=neighb.fit(X) # fitting the data to the object\n",
    "distances,indices=nbrs.kneighbors(X) # finding the nearest neighbours\n",
    "\n",
    "# Sort and plot the distances results\n",
    "distances = np.sort(distances, axis = 0) # sorting the distances\n",
    "distances = distances[:, 1] # taking the second column of the sorted distances\n",
    "plt.rcParams['figure.figsize'] = (5,3) # setting the figure size\n",
    "plt.plot(distances) # plotting the distances\n",
    "plt.show(); # showing the plot"
   ]
  },
  {
   "cell_type": "code",
   "execution_count": 55,
   "id": "faf3bfe4",
   "metadata": {},
   "outputs": [
    {
     "name": "stdout",
     "output_type": "stream",
     "text": [
      "Best silhouette_score: 0.26375348680377736\n",
      "min_samples: 15\n",
      "eps: 0.8000000000000003\n"
     ]
    }
   ],
   "source": [
    "from sklearn.cluster import DBSCAN\n",
    "min_samples = range(10,21)\n",
    "eps = np.arange(0.5,0.8, 0.01) # returns array of ranging from 0.05 to 0.13 with step of 0.01\n",
    "\n",
    "output = []\n",
    "\n",
    "for ms in min_samples:\n",
    "    for ep in eps:\n",
    "        labels = DBSCAN(min_samples=ms, eps = ep).fit(X).labels_\n",
    "        score = silhouette_score(X, labels)\n",
    "        output.append((ms, ep, score))\n",
    "\n",
    "# get the best silhouette score\n",
    "min_samples, eps, score = sorted(output, key=lambda x:x[-1])[-1]\n",
    "print(f\"Best silhouette_score: {score}\")\n",
    "print(f\"min_samples: {min_samples}\")\n",
    "print(f\"eps: {eps}\")"
   ]
  },
  {
   "cell_type": "code",
   "execution_count": 112,
   "id": "15ec0482",
   "metadata": {
    "scrolled": false
   },
   "outputs": [
    {
     "name": "stdout",
     "output_type": "stream",
     "text": [
      "[-1 -1 -1 -1 -1 -1 -1 -1 -1 -1 -1 -1 -1 -1 -1 -1 -1 -1 -1 -1 -1 -1 -1 -1\n",
      " -1 -1 -1 -1 -1 -1 -1 -1 -1 -1 -1 -1 -1 -1 -1 -1 -1 -1 -1 -1 -1 -1 -1 -1\n",
      " -1 -1 -1 -1 -1 -1 -1 -1 -1 -1 -1 -1 -1 -1 -1 -1 -1 -1 -1 -1 -1 -1 -1 -1\n",
      " -1 -1 -1 -1 -1 -1 -1 -1 -1 -1 -1 -1 -1 -1 -1 -1 -1 -1 -1 -1 -1 -1 -1 -1\n",
      " -1 -1 -1 -1 -1 -1 -1 -1 -1 -1 -1 -1 -1 -1 -1 -1 -1 -1 -1 -1 -1 -1 -1 -1\n",
      " -1 -1 -1 -1 -1 -1 -1 -1 -1 -1 -1 -1 -1 -1 -1 -1 -1 -1 -1 -1 -1 -1 -1 -1\n",
      " -1 -1 -1 -1 -1 -1 -1 -1 -1 -1 -1 -1 -1 -1 -1 -1 -1 -1 -1 -1 -1 -1 -1 -1\n",
      " -1 -1 -1 -1 -1 -1 -1 -1 -1 -1]\n",
      "[-1]\n"
     ]
    }
   ],
   "source": [
    "from sklearn.cluster import DBSCAN\n",
    "dbscan = DBSCAN(eps = eps, min_samples = min_samples) # fitting the model\n",
    "y_db = dbscan.fit_predict(X)\n",
    "print(y_db)\n",
    "print(np.unique(y_db))"
   ]
  },
  {
   "cell_type": "markdown",
   "id": "f7669ef3",
   "metadata": {},
   "source": [
    "### Silhouette Score"
   ]
  },
  {
   "cell_type": "code",
   "execution_count": 57,
   "id": "dc5ce844",
   "metadata": {},
   "outputs": [
    {
     "data": {
      "text/plain": [
       "0.26375348680377736"
      ]
     },
     "execution_count": 57,
     "metadata": {},
     "output_type": "execute_result"
    }
   ],
   "source": [
    "from sklearn.metrics import silhouette_score\n",
    "sil_db = silhouette_score(X,y_db)\n",
    "sil_db"
   ]
  },
  {
   "cell_type": "markdown",
   "id": "2d118f86",
   "metadata": {},
   "source": [
    "### Calinski Harabsz Score"
   ]
  },
  {
   "cell_type": "code",
   "execution_count": 102,
   "id": "18649832",
   "metadata": {},
   "outputs": [
    {
     "name": "stdout",
     "output_type": "stream",
     "text": [
      "Calinski-Harabasz index: 2.59174566182785\n"
     ]
    }
   ],
   "source": [
    "from sklearn.metrics import calinski_harabasz_score\n",
    "# Calculate the Calinski-Harabasz index\n",
    "score = calinski_harabasz_score(X, y_db)\n",
    "\n",
    "print(\"Calinski-Harabasz index:\", score)"
   ]
  },
  {
   "cell_type": "markdown",
   "id": "2d0efbf8",
   "metadata": {},
   "source": [
    "### Dunn's Index cannot be calculated as y_db has only -1"
   ]
  },
  {
   "cell_type": "markdown",
   "id": "fde83b9b",
   "metadata": {},
   "source": [
    "### Davies Bouldin Index"
   ]
  },
  {
   "cell_type": "code",
   "execution_count": 58,
   "id": "00f9cfb7",
   "metadata": {},
   "outputs": [
    {
     "data": {
      "text/plain": [
       "0.604365155924742"
      ]
     },
     "execution_count": 58,
     "metadata": {},
     "output_type": "execute_result"
    }
   ],
   "source": [
    "from sklearn.metrics import davies_bouldin_score\n",
    "dav_db = davies_bouldin_score(X, y_db)\n",
    "dav_db"
   ]
  },
  {
   "cell_type": "markdown",
   "id": "b9a59afe",
   "metadata": {},
   "source": [
    "### Plotting DBSCAN Clusters"
   ]
  },
  {
   "cell_type": "code",
   "execution_count": 59,
   "id": "d44ca21d",
   "metadata": {},
   "outputs": [
    {
     "name": "stdout",
     "output_type": "stream",
     "text": [
      "Cluster labels [ 0  0  0  0  0  0  0  0  0  0  0  0  0  0  0  0  0  0  0  0  0  0  0  0\n",
      "  0  0  0  0  0  0  0  0  0  0  0  0  0  0  0  0  0  0  0  0  0  0  0  0\n",
      "  0  0  0  0  0  0  0  0  0  0  0  0  0  0  0  0  0  0  0  0  0  0  0  0\n",
      "  0  0  0  0  0  0  0  0  0  0  0  0  0  0  0  0  0  0  0  0  0  0  0  0\n",
      "  0  0  0  0  0  0  0  0  0  0  0  0  0  0  0  0  0  0  0  0  0  0  0  0\n",
      "  0 -1  0  0  0  0  0  0  0  0  0  0  0  0  0  0  0  0  0  0  0  0  0  0\n",
      "  0  0  0  0  0  0  0  0  0  0  0  0  0  0  0  0  0  0  0  0  0  0  0  0\n",
      "  0  0  0  0  0  0  0  0  0  0]\n",
      "count per label Counter({0: 177, -1: 1})\n",
      "[t-SNE] Computing 91 nearest neighbors...\n",
      "[t-SNE] Indexed 178 samples in 0.000s...\n",
      "[t-SNE] Computed neighbors for 178 samples in 0.024s...\n",
      "[t-SNE] Computed conditional probabilities for sample 178 / 178\n",
      "[t-SNE] Mean sigma: 0.324114\n"
     ]
    },
    {
     "name": "stderr",
     "output_type": "stream",
     "text": [
      "C:\\Users\\HARIKRISHNAN M\\anaconda3\\lib\\site-packages\\sklearn\\manifold\\_t_sne.py:780: FutureWarning: The default initialization in TSNE will change from 'random' to 'pca' in 1.2.\n",
      "  warnings.warn(\n",
      "C:\\Users\\HARIKRISHNAN M\\anaconda3\\lib\\site-packages\\sklearn\\manifold\\_t_sne.py:790: FutureWarning: The default learning rate in TSNE will change from 200.0 to 'auto' in 1.2.\n",
      "  warnings.warn(\n"
     ]
    },
    {
     "name": "stdout",
     "output_type": "stream",
     "text": [
      "[t-SNE] KL divergence after 250 iterations with early exaggeration: 58.771553\n",
      "[t-SNE] KL divergence after 750 iterations: 0.352316\n"
     ]
    },
    {
     "data": {
      "image/png": "[encoded data removed]",
      "text/plain": [
       "<Figure size 500x300 with 1 Axes>"
      ]
     },
     "metadata": {},
     "output_type": "display_data"
    }
   ],
   "source": [
    "# for the plot\n",
    "clusters = DBSCAN(eps=eps, min_samples=min_samples).fit(X)\n",
    "# get cluster labels\n",
    "print(\"Cluster labels\",clusters.labels_)\n",
    "\n",
    "# check unique clusters\n",
    "set(clusters.labels_)\n",
    "# -1 value represents noisy points could not assigned to any cluster\n",
    "\n",
    "from collections import Counter\n",
    "count_per_label = Counter(clusters.labels_)\n",
    "print(\"count per label\",count_per_label)\n",
    "\n",
    "# computing tsne but if feature is >50, go for PCA first then tsne\n",
    "from sklearn.manifold import TSNE\n",
    "tsne = TSNE(n_components=2, verbose=1, perplexity=30)\n",
    "tsne_results = tsne.fit_transform(X)\n",
    "\n",
    "# for visualization of DBSCAN clustering\n",
    "Xa = X.copy()\n",
    "Xa['t-SNE-1'] = tsne_results[:,0]\n",
    "Xa['t-SNE-2'] = tsne_results[:,1]\n",
    "p = sns.scatterplot(data=Xa, x=\"t-SNE-1\", y=\"t-SNE-2\", hue=clusters.labels_, legend=\"full\", palette=\"deep\")\n",
    "sns.move_legend(p, \"upper right\", bbox_to_anchor=(1.17, 1.2), title='Clusters')\n",
    "plt.show()"
   ]
  },
  {
   "cell_type": "markdown",
   "id": "49a6b7c4",
   "metadata": {},
   "source": [
    "# Trying Standard Scaling"
   ]
  },
  {
   "cell_type": "code",
   "execution_count": 60,
   "id": "5b8be7a7",
   "metadata": {},
   "outputs": [],
   "source": [
    "from sklearn.preprocessing import StandardScaler\n",
    "stdsclr = StandardScaler()\n",
    "X1 = stdsclr.fit_transform(X)"
   ]
  },
  {
   "cell_type": "code",
   "execution_count": 61,
   "id": "b3328265",
   "metadata": {},
   "outputs": [],
   "source": [
    "X1 = pd.DataFrame(X1, columns = ['Alcohol', 'Malic_Acid', 'Ash', 'Ash_Alcanity', 'Magnesium',\n",
    "       'Total_Phenols', 'Flavanoids', 'Nonflavanoid_Phenols',\n",
    "       'Proanthocyanins', 'Color_Intensity', 'Hue', 'OD280', 'Proline'])"
   ]
  },
  {
   "cell_type": "markdown",
   "id": "036715bc",
   "metadata": {},
   "source": [
    "## KMeans Clustering"
   ]
  },
  {
   "cell_type": "code",
   "execution_count": 62,
   "id": "21e18468",
   "metadata": {},
   "outputs": [
    {
     "name": "stderr",
     "output_type": "stream",
     "text": [
      "C:\\Users\\HARIKRISHNAN M\\anaconda3\\lib\\site-packages\\sklearn\\cluster\\_kmeans.py:1036: UserWarning: KMeans is known to have a memory leak on Windows with MKL, when there are less chunks than available threads. You can avoid it by setting the environment variable OMP_NUM_THREADS=1.\n",
      "  warnings.warn(\n"
     ]
    },
    {
     "data": {
      "image/png": "[encoded data removed]",
      "text/plain": [
       "<Figure size 500x300 with 1 Axes>"
      ]
     },
     "metadata": {},
     "output_type": "display_data"
    }
   ],
   "source": [
    "from sklearn.cluster import KMeans\n",
    "wcss= []\n",
    "for i in range(1,11):\n",
    "    kmeans = KMeans(n_clusters = i,init = 'k-means++', random_state = 42)\n",
    "    kmeans.fit(X1)\n",
    "    wcss.append(kmeans.inertia_)\n",
    "plt.plot(range(1,11),wcss)\n",
    "plt.title('The elbow method')\n",
    "plt.xlabel('Number of clusters')\n",
    "plt.ylabel('WCSS')\n",
    "plt.show();"
   ]
  },
  {
   "cell_type": "markdown",
   "id": "38936753",
   "metadata": {},
   "source": [
    "#### We get 3 clusters"
   ]
  },
  {
   "cell_type": "code",
   "execution_count": 99,
   "id": "d77b05cf",
   "metadata": {
    "scrolled": true
   },
   "outputs": [
    {
     "name": "stdout",
     "output_type": "stream",
     "text": [
      "[1 1 1 1 1 1 1 1 1 1 1 1 1 1 1 1 1 1 1 1 1 1 1 1 1 1 1 1 1 1 1 1 1 1 1 1 1\n",
      " 1 1 1 1 1 1 1 1 1 1 1 1 1 1 1 1 1 1 1 1 1 1 2 2 0 2 2 2 2 2 2 2 2 2 2 2 1\n",
      " 2 2 2 2 2 2 2 2 2 0 2 2 2 2 2 2 2 2 2 2 2 1 2 2 2 2 2 2 2 2 2 2 2 2 2 2 2\n",
      " 2 2 2 2 2 2 2 0 2 2 1 2 2 2 2 2 2 2 2 0 0 0 0 0 0 0 0 0 0 0 0 0 0 0 0 0 0\n",
      " 0 0 0 0 0 0 0 0 0 0 0 0 0 0 0 0 0 0 0 0 0 0 0 0 0 0 0 0 0 0]\n",
      "[0 1 2]\n"
     ]
    }
   ],
   "source": [
    "kmeans = KMeans(n_clusters = 3,init = 'k-means++', random_state = 42)\n",
    "y_kmeans1 = kmeans.fit_predict(X1)\n",
    "print(y_kmeans1)\n",
    "print(np.unique(y_kmeans1))"
   ]
  },
  {
   "cell_type": "markdown",
   "id": "683e026f",
   "metadata": {},
   "source": [
    "### Silhouette Score"
   ]
  },
  {
   "cell_type": "code",
   "execution_count": 64,
   "id": "9f73b8f8",
   "metadata": {},
   "outputs": [
    {
     "data": {
      "text/plain": [
       "0.2848589191898987"
      ]
     },
     "execution_count": 64,
     "metadata": {},
     "output_type": "execute_result"
    }
   ],
   "source": [
    "from sklearn.metrics import silhouette_score\n",
    "sil_kmeans1 = silhouette_score(X1,y_kmeans1)\n",
    "sil_kmeans1"
   ]
  },
  {
   "cell_type": "markdown",
   "id": "d3b9c6b2",
   "metadata": {},
   "source": [
    "### Calinski Harabsz Score"
   ]
  },
  {
   "cell_type": "code",
   "execution_count": 103,
   "id": "9788e16c",
   "metadata": {},
   "outputs": [
    {
     "name": "stdout",
     "output_type": "stream",
     "text": [
      "Calinski-Harabasz index: 70.94000800315122\n"
     ]
    }
   ],
   "source": [
    "from sklearn.metrics import calinski_harabasz_score\n",
    "# Calculate the Calinski-Harabasz index\n",
    "score = calinski_harabasz_score(X1, y_kmeans1)\n",
    "\n",
    "print(\"Calinski-Harabasz index:\", score)"
   ]
  },
  {
   "cell_type": "markdown",
   "id": "656809f8",
   "metadata": {},
   "source": [
    "### Dunn's Index"
   ]
  },
  {
   "cell_type": "code",
   "execution_count": 124,
   "id": "39fbfce1",
   "metadata": {},
   "outputs": [
    {
     "name": "stdout",
     "output_type": "stream",
     "text": [
      "The Dunn's Index: 0.11710725967659999\n"
     ]
    }
   ],
   "source": [
    "# We store the K-means results in a dataframe\n",
    "pred = pd.DataFrame(y_kmeans1)\n",
    "pred.columns = ['Type']\n",
    "\n",
    "# we merge this dataframe with df\n",
    "prediction = pd.concat([X1, pred], axis = 1)\n",
    " \n",
    "# We store the clusters\n",
    "clus0 = prediction.loc[prediction.Type == 0]\n",
    "clus1 = prediction.loc[prediction.Type == 1]\n",
    "clus2 = prediction.loc[prediction.Type == 2]\n",
    "k_list = [clus0.values, clus1.values,clus2.values]\n",
    "k_list\n",
    "\n",
    "# Dunn's Index\n",
    "print(\"The Dunn's Index:\", dunn(k_list))"
   ]
  },
  {
   "cell_type": "markdown",
   "id": "cc90b9ec",
   "metadata": {},
   "source": [
    "### Davies Bouldin Index"
   ]
  },
  {
   "cell_type": "code",
   "execution_count": 65,
   "id": "661eda38",
   "metadata": {},
   "outputs": [
    {
     "data": {
      "text/plain": [
       "1.3891879777181646"
      ]
     },
     "execution_count": 65,
     "metadata": {},
     "output_type": "execute_result"
    }
   ],
   "source": [
    "from sklearn.metrics import davies_bouldin_score\n",
    "dav_kmeans1 = davies_bouldin_score(X1, y_kmeans1)\n",
    "dav_kmeans1"
   ]
  },
  {
   "cell_type": "markdown",
   "id": "3ae8e8dd",
   "metadata": {},
   "source": [
    "## Agglomerative HC"
   ]
  },
  {
   "cell_type": "code",
   "execution_count": 66,
   "id": "66a4fb95",
   "metadata": {},
   "outputs": [
    {
     "data": {
      "image/png": "[encoded data removed]",
      "text/plain": [
       "<Figure size 500x300 with 1 Axes>"
      ]
     },
     "metadata": {},
     "output_type": "display_data"
    }
   ],
   "source": [
    "import scipy.cluster.hierarchy as sch\n",
    "dendrogram = sch.dendrogram(sch.linkage(X1, method='ward'))\n",
    "plt.title('Dendrogram')\n",
    "plt.xlabel('Customer')\n",
    "plt.ylabel('Euclidean distance')\n",
    "plt.show();"
   ]
  },
  {
   "cell_type": "markdown",
   "id": "33ac0725",
   "metadata": {},
   "source": [
    "#### We get 3 clusters"
   ]
  },
  {
   "cell_type": "code",
   "execution_count": 116,
   "id": "dfd191e6",
   "metadata": {},
   "outputs": [
    {
     "name": "stdout",
     "output_type": "stream",
     "text": [
      "[2 2 2 2 2 2 2 2 2 2 2 2 2 2 2 2 2 2 2 2 2 2 2 2 2 2 2 2 2 2 2 2 2 2 2 2 2\n",
      " 2 2 2 2 2 2 2 2 2 2 2 2 2 2 2 2 2 2 2 2 2 2 0 1 1 0 0 0 2 2 0 1 0 1 2 0 2\n",
      " 0 0 0 1 0 0 0 0 0 1 0 0 0 0 0 0 0 0 0 0 0 0 1 0 0 0 0 0 0 0 0 0 0 0 0 0 0\n",
      " 0 0 0 0 0 0 0 1 0 0 2 0 0 0 0 0 0 0 0 1 1 1 1 1 1 1 1 1 1 1 1 1 1 1 1 1 1\n",
      " 1 1 1 1 1 1 1 1 1 1 1 1 1 1 1 1 1 1 1 1 1 1 1 1 1 1 1 1 1 1]\n",
      "[0 1 2]\n"
     ]
    }
   ],
   "source": [
    "from sklearn.cluster import AgglomerativeClustering\n",
    "hc = AgglomerativeClustering(n_clusters = 3, affinity = 'euclidean', linkage = 'ward')\n",
    "y_hc1 = hc.fit_predict(X1)\n",
    "print(y_hc1)\n",
    "print(np.unique(y_hc1))"
   ]
  },
  {
   "cell_type": "markdown",
   "id": "049612a7",
   "metadata": {},
   "source": [
    "### Silhouette Score"
   ]
  },
  {
   "cell_type": "code",
   "execution_count": 68,
   "id": "fdb0324c",
   "metadata": {},
   "outputs": [
    {
     "data": {
      "text/plain": [
       "0.2774439826952266"
      ]
     },
     "execution_count": 68,
     "metadata": {},
     "output_type": "execute_result"
    }
   ],
   "source": [
    "from sklearn.metrics import silhouette_score\n",
    "sil_hc1 = silhouette_score(X1,y_hc1)\n",
    "sil_hc1"
   ]
  },
  {
   "cell_type": "markdown",
   "id": "0455611f",
   "metadata": {},
   "source": [
    "### Davies Bouldin Index"
   ]
  },
  {
   "cell_type": "code",
   "execution_count": 69,
   "id": "196c1bd4",
   "metadata": {},
   "outputs": [
    {
     "data": {
      "text/plain": [
       "1.4185919431857321"
      ]
     },
     "execution_count": 69,
     "metadata": {},
     "output_type": "execute_result"
    }
   ],
   "source": [
    "from sklearn.metrics import davies_bouldin_score\n",
    "dav_hc1 = davies_bouldin_score(X1, y_hc1)\n",
    "dav_hc1"
   ]
  },
  {
   "cell_type": "markdown",
   "id": "ff5b51df",
   "metadata": {},
   "source": [
    "### Calinski Harabasz Score"
   ]
  },
  {
   "cell_type": "code",
   "execution_count": 104,
   "id": "da91bf7c",
   "metadata": {},
   "outputs": [
    {
     "name": "stdout",
     "output_type": "stream",
     "text": [
      "Calinski-Harabasz index: 67.6474675044098\n"
     ]
    }
   ],
   "source": [
    "from sklearn.metrics import calinski_harabasz_score\n",
    "# Calculate the Calinski-Harabasz index\n",
    "score = calinski_harabasz_score(X1, y_hc1)\n",
    "\n",
    "print(\"Calinski-Harabasz index:\", score)"
   ]
  },
  {
   "cell_type": "markdown",
   "id": "f7b8fa43",
   "metadata": {},
   "source": [
    "### Dunn's Index"
   ]
  },
  {
   "cell_type": "code",
   "execution_count": 123,
   "id": "e5cc6b5e",
   "metadata": {},
   "outputs": [
    {
     "name": "stdout",
     "output_type": "stream",
     "text": [
      "The Dunn's Index: 0.11525663437599301\n"
     ]
    }
   ],
   "source": [
    "# We store the K-means results in a dataframe\n",
    "pred = pd.DataFrame(y_hc1)\n",
    "pred.columns = ['Type']\n",
    "\n",
    "# we merge this dataframe with df\n",
    "prediction = pd.concat([X1, pred], axis = 1)\n",
    " \n",
    "# We store the clusters\n",
    "clus0 = prediction.loc[prediction.Type == 0]\n",
    "clus1 = prediction.loc[prediction.Type == 1]\n",
    "clus2 = prediction.loc[prediction.Type == 2]\n",
    "k_list = [clus0.values, clus1.values,clus2.values]\n",
    "k_list\n",
    "\n",
    "# Dunn's Index\n",
    "print(\"The Dunn's Index:\", dunn(k_list))"
   ]
  },
  {
   "cell_type": "markdown",
   "id": "b67ee69f",
   "metadata": {},
   "source": [
    "## DBSCAN"
   ]
  },
  {
   "cell_type": "code",
   "execution_count": 70,
   "id": "d447100c",
   "metadata": {},
   "outputs": [
    {
     "data": {
      "image/png": "[encoded data removed]",
      "text/plain": [
       "<Figure size 500x300 with 1 Axes>"
      ]
     },
     "metadata": {},
     "output_type": "display_data"
    }
   ],
   "source": [
    "from sklearn.neighbors import NearestNeighbors # importing the library\n",
    "neighb = NearestNeighbors(n_neighbors=20) # creating an object of the NearestNeighbors class\n",
    "nbrs=neighb.fit(X1) # fitting the data to the object\n",
    "distances,indices=nbrs.kneighbors(X1) # finding the nearest neighbours\n",
    "\n",
    "# Sort and plot the distances results\n",
    "distances = np.sort(distances, axis = 0) # sorting the distances\n",
    "distances = distances[:, 1] # taking the second column of the sorted distances\n",
    "plt.rcParams['figure.figsize'] = (5,3) # setting the figure size\n",
    "plt.plot(distances) # plotting the distances\n",
    "plt.show(); # showing the plot"
   ]
  },
  {
   "cell_type": "code",
   "execution_count": 71,
   "id": "9e26196e",
   "metadata": {},
   "outputs": [
    {
     "name": "stdout",
     "output_type": "stream",
     "text": [
      "Best silhouette_score: 0.24617195380404538\n",
      "min_samples: 13\n",
      "eps: 3.6399999999999864\n"
     ]
    }
   ],
   "source": [
    "min_samples = range(10,21)\n",
    "eps = np.arange(3,4, 0.01) # returns array of ranging from 0.05 to 0.13 with step of 0.01\n",
    "\n",
    "output = []\n",
    "\n",
    "for ms in min_samples:\n",
    "    for ep in eps:\n",
    "        labels = DBSCAN(min_samples=ms, eps = ep).fit(X1).labels_\n",
    "        score = silhouette_score(X1, labels)\n",
    "        output.append((ms, ep, score))\n",
    "\n",
    "# get the best silhouette score\n",
    "min_samples, eps, score = sorted(output, key=lambda x:x[-1])[-1]\n",
    "print(f\"Best silhouette_score: {score}\")\n",
    "print(f\"min_samples: {min_samples}\")\n",
    "print(f\"eps: {eps}\")"
   ]
  },
  {
   "cell_type": "code",
   "execution_count": 118,
   "id": "e30d4e56",
   "metadata": {
    "scrolled": true
   },
   "outputs": [
    {
     "name": "stdout",
     "output_type": "stream",
     "text": [
      "[-1 -1 -1 -1 -1 -1 -1 -1 -1 -1 -1 -1 -1 -1 -1 -1 -1 -1 -1 -1 -1 -1 -1 -1\n",
      " -1 -1 -1 -1 -1 -1 -1 -1 -1 -1 -1 -1 -1 -1 -1 -1 -1 -1 -1 -1 -1 -1 -1 -1\n",
      " -1 -1 -1 -1 -1 -1 -1 -1 -1 -1 -1 -1 -1 -1 -1 -1 -1 -1 -1 -1 -1 -1 -1 -1\n",
      " -1 -1 -1 -1 -1 -1 -1 -1 -1 -1 -1 -1 -1 -1 -1 -1 -1 -1 -1 -1 -1 -1 -1 -1\n",
      " -1 -1 -1 -1 -1 -1 -1 -1 -1 -1 -1 -1 -1 -1 -1 -1 -1 -1 -1 -1 -1 -1 -1 -1\n",
      " -1 -1 -1 -1 -1 -1 -1 -1 -1 -1 -1 -1 -1 -1 -1 -1 -1 -1 -1 -1 -1 -1 -1 -1\n",
      " -1 -1 -1 -1 -1 -1 -1 -1 -1 -1 -1 -1 -1 -1 -1 -1 -1 -1 -1 -1 -1 -1 -1 -1\n",
      " -1 -1 -1 -1 -1 -1 -1 -1 -1 -1]\n",
      "[-1]\n"
     ]
    }
   ],
   "source": [
    "from sklearn.cluster import DBSCAN\n",
    "dbscan = DBSCAN(eps = eps, min_samples = min_samples) # fitting the model\n",
    "y_db1 = dbscan.fit_predict(X1)\n",
    "print(y_db1)\n",
    "print(np.unique(y_db1))"
   ]
  },
  {
   "cell_type": "markdown",
   "id": "73c21583",
   "metadata": {},
   "source": [
    "### Silhouette Score"
   ]
  },
  {
   "cell_type": "code",
   "execution_count": 73,
   "id": "9a09a667",
   "metadata": {},
   "outputs": [
    {
     "data": {
      "text/plain": [
       "0.24617195380404538"
      ]
     },
     "execution_count": 73,
     "metadata": {},
     "output_type": "execute_result"
    }
   ],
   "source": [
    "from sklearn.metrics import silhouette_score\n",
    "sil_db1 = silhouette_score(X1,y_db1)\n",
    "sil_db1"
   ]
  },
  {
   "cell_type": "markdown",
   "id": "42495f68",
   "metadata": {},
   "source": [
    "### Calinski Harabasz Score"
   ]
  },
  {
   "cell_type": "code",
   "execution_count": 106,
   "id": "0795c0db",
   "metadata": {},
   "outputs": [
    {
     "name": "stdout",
     "output_type": "stream",
     "text": [
      "Calinski-Harabasz index: 4.459103685481698\n"
     ]
    }
   ],
   "source": [
    "from sklearn.metrics import calinski_harabasz_score\n",
    "# Calculate the Calinski-Harabasz index\n",
    "score = calinski_harabasz_score(X1, y_db1)\n",
    "\n",
    "print(\"Calinski-Harabasz index:\", score)"
   ]
  },
  {
   "cell_type": "markdown",
   "id": "639466f2",
   "metadata": {},
   "source": [
    "### Dunn's Index cannot be calculated as array has only 1 cluster"
   ]
  },
  {
   "cell_type": "markdown",
   "id": "10be4688",
   "metadata": {},
   "source": [
    "### Davies Bouldin Score"
   ]
  },
  {
   "cell_type": "code",
   "execution_count": 74,
   "id": "f2bab613",
   "metadata": {},
   "outputs": [
    {
     "data": {
      "text/plain": [
       "2.93746919017647"
      ]
     },
     "execution_count": 74,
     "metadata": {},
     "output_type": "execute_result"
    }
   ],
   "source": [
    "from sklearn.metrics import davies_bouldin_score\n",
    "dav_db1 = davies_bouldin_score(X1, y_db1)\n",
    "dav_db1"
   ]
  },
  {
   "cell_type": "markdown",
   "id": "989a5d75",
   "metadata": {},
   "source": [
    "### Plotting DBSCAN Clusters"
   ]
  },
  {
   "cell_type": "code",
   "execution_count": 75,
   "id": "5d3ec4cd",
   "metadata": {},
   "outputs": [
    {
     "name": "stdout",
     "output_type": "stream",
     "text": [
      "Cluster labels [ 0  0  0  0  0  0  0  0  0  0  0  0  0  0  0  0  0  0  0  0  0  0  0  0\n",
      "  0  0  0  0  0  0  0  0  0  0  0  0  0  0  0  0  0  0  0  0  0  0  0  0\n",
      "  0  0  0  0  0  0  0  0  0  0  0 -1  0  0  0  0  0  0  0  0  0 -1  0  0\n",
      "  0 -1  0  0  0  0 -1  0  0  0  0  0  0  0  0  0  0  0  0  0  0  0  0 -1\n",
      "  0  0  0  0  0  0  0  0  0  0  0  0  0  0 -1  0  0  0  0  0  0  0  0  0\n",
      "  0 -1  0  0  0  0  0  0  0  0  0  0  0  0  0  0  0  0  0  0  0  0  0  0\n",
      "  0  0  0  0  0  0  0  0  0  0  0  0  0  0 -1  0  0  0  0  0  0  0  0  0\n",
      "  0  0  0  0  0  0  0  0  0  0]\n",
      "count per label Counter({0: 170, -1: 8})\n",
      "[t-SNE] Computing 91 nearest neighbors...\n",
      "[t-SNE] Indexed 178 samples in 0.000s...\n",
      "[t-SNE] Computed neighbors for 178 samples in 0.008s...\n",
      "[t-SNE] Computed conditional probabilities for sample 178 / 178\n",
      "[t-SNE] Mean sigma: 1.625735\n"
     ]
    },
    {
     "name": "stderr",
     "output_type": "stream",
     "text": [
      "C:\\Users\\HARIKRISHNAN M\\anaconda3\\lib\\site-packages\\sklearn\\manifold\\_t_sne.py:780: FutureWarning: The default initialization in TSNE will change from 'random' to 'pca' in 1.2.\n",
      "  warnings.warn(\n",
      "C:\\Users\\HARIKRISHNAN M\\anaconda3\\lib\\site-packages\\sklearn\\manifold\\_t_sne.py:790: FutureWarning: The default learning rate in TSNE will change from 200.0 to 'auto' in 1.2.\n",
      "  warnings.warn(\n"
     ]
    },
    {
     "name": "stdout",
     "output_type": "stream",
     "text": [
      "[t-SNE] KL divergence after 250 iterations with early exaggeration: 56.000904\n",
      "[t-SNE] KL divergence after 800 iterations: 0.376524\n"
     ]
    },
    {
     "data": {
      "image/png": "[encoded data removed]",
      "text/plain": [
       "<Figure size 500x300 with 1 Axes>"
      ]
     },
     "metadata": {},
     "output_type": "display_data"
    }
   ],
   "source": [
    "# for the plot\n",
    "clusters = DBSCAN(eps=eps, min_samples=min_samples).fit(X1)\n",
    "# get cluster labels\n",
    "print(\"Cluster labels\",clusters.labels_)\n",
    "\n",
    "# check unique clusters\n",
    "set(clusters.labels_)\n",
    "# -1 value represents noisy points could not assigned to any cluster\n",
    "\n",
    "from collections import Counter\n",
    "count_per_label = Counter(clusters.labels_)\n",
    "print(\"count per label\",count_per_label)\n",
    "\n",
    "# computing tsne but if feature is >50, go for PCA first then tsne\n",
    "from sklearn.manifold import TSNE\n",
    "tsne = TSNE(n_components=2, verbose=1, perplexity=30)\n",
    "tsne_results = tsne.fit_transform(X1)\n",
    "\n",
    "# for visualization of DBSCAN clustering\n",
    "X1a = X1.copy()\n",
    "X1a['t-SNE-1'] = tsne_results[:,0]\n",
    "X1a['t-SNE-2'] = tsne_results[:,1]\n",
    "p = sns.scatterplot(data=X1a, x=\"t-SNE-1\", y=\"t-SNE-2\", hue=clusters.labels_, legend=\"full\", palette=\"deep\")\n",
    "sns.move_legend(p, \"upper right\", bbox_to_anchor=(1.17, 1.2), title='Clusters')\n",
    "plt.show()"
   ]
  },
  {
   "cell_type": "markdown",
   "id": "27c184e3",
   "metadata": {},
   "source": [
    "# Trying Normalization"
   ]
  },
  {
   "cell_type": "code",
   "execution_count": 76,
   "id": "202822f8",
   "metadata": {},
   "outputs": [],
   "source": [
    "from sklearn import preprocessing\n",
    "X2 = preprocessing.normalize(X)"
   ]
  },
  {
   "cell_type": "code",
   "execution_count": 77,
   "id": "a2998b69",
   "metadata": {},
   "outputs": [],
   "source": [
    "X2 = pd.DataFrame(X2, columns = ['Alcohol', 'Malic_Acid', 'Ash', 'Ash_Alcanity', 'Magnesium',\n",
    "       'Total_Phenols', 'Flavanoids', 'Nonflavanoid_Phenols',\n",
    "       'Proanthocyanins', 'Color_Intensity', 'Hue', 'OD280', 'Proline'])"
   ]
  },
  {
   "cell_type": "markdown",
   "id": "9d827746",
   "metadata": {},
   "source": [
    "## KMeans Clustering"
   ]
  },
  {
   "cell_type": "code",
   "execution_count": 78,
   "id": "164c95da",
   "metadata": {},
   "outputs": [
    {
     "name": "stderr",
     "output_type": "stream",
     "text": [
      "C:\\Users\\HARIKRISHNAN M\\anaconda3\\lib\\site-packages\\sklearn\\cluster\\_kmeans.py:1036: UserWarning: KMeans is known to have a memory leak on Windows with MKL, when there are less chunks than available threads. You can avoid it by setting the environment variable OMP_NUM_THREADS=1.\n",
      "  warnings.warn(\n"
     ]
    },
    {
     "data": {
      "image/png": "[encoded data removed]",
      "text/plain": [
       "<Figure size 500x300 with 1 Axes>"
      ]
     },
     "metadata": {},
     "output_type": "display_data"
    }
   ],
   "source": [
    "from sklearn.cluster import KMeans\n",
    "wcss= []\n",
    "for i in range(1,11):\n",
    "    kmeans = KMeans(n_clusters = i,init = 'k-means++', random_state = 42)\n",
    "    kmeans.fit(X2)\n",
    "    wcss.append(kmeans.inertia_)\n",
    "plt.plot(range(1,11),wcss)\n",
    "plt.title('The elbow method')\n",
    "plt.xlabel('Number of clusters')\n",
    "plt.ylabel('WCSS')\n",
    "plt.show();"
   ]
  },
  {
   "cell_type": "markdown",
   "id": "f76cd921",
   "metadata": {},
   "source": [
    "#### We get 2 clusters"
   ]
  },
  {
   "cell_type": "code",
   "execution_count": 100,
   "id": "c201bd4a",
   "metadata": {},
   "outputs": [
    {
     "name": "stdout",
     "output_type": "stream",
     "text": [
      "[0 0 0 0 0 0 0 0 0 0 0 0 0 0 0 0 0 0 0 0 0 0 0 0 0 0 0 0 0 0 0 0 0 0 0 0 0\n",
      " 0 0 0 0 0 0 0 0 0 0 0 0 0 0 0 0 0 0 0 0 0 0 0 1 1 0 0 0 0 0 0 1 0 1 0 0 0\n",
      " 0 0 0 1 0 0 0 0 0 1 0 0 0 0 0 0 1 1 1 0 0 0 0 0 0 0 0 0 0 0 0 1 0 1 0 0 0\n",
      " 0 1 0 0 0 0 0 1 0 0 0 1 0 0 0 0 1 0 1 1 1 1 1 1 1 1 1 1 1 1 1 1 1 1 1 1 1\n",
      " 1 1 1 1 1 1 1 1 1 1 1 1 1 1 1 1 1 1 1 1 1 1 1 1 1 1 1 1 1 1]\n",
      "[0 1]\n"
     ]
    }
   ],
   "source": [
    "kmeans = KMeans(n_clusters = 2,init = 'k-means++', random_state = 42)\n",
    "y_kmeans2 = kmeans.fit_predict(X2)\n",
    "print(y_kmeans2)\n",
    "print(np.unique(y_kmeans2))"
   ]
  },
  {
   "cell_type": "markdown",
   "id": "47fee4dc",
   "metadata": {},
   "source": [
    "### Silhouette Score"
   ]
  },
  {
   "cell_type": "code",
   "execution_count": 80,
   "id": "895534c7",
   "metadata": {},
   "outputs": [
    {
     "data": {
      "text/plain": [
       "0.3370109424905078"
      ]
     },
     "execution_count": 80,
     "metadata": {},
     "output_type": "execute_result"
    }
   ],
   "source": [
    "from sklearn.metrics import silhouette_score\n",
    "sil_kmeans2 = silhouette_score(X2,y_kmeans2)\n",
    "sil_kmeans2"
   ]
  },
  {
   "cell_type": "markdown",
   "id": "310124fd",
   "metadata": {},
   "source": [
    "### Davies Bouldin Index"
   ]
  },
  {
   "cell_type": "code",
   "execution_count": 81,
   "id": "196fcd7c",
   "metadata": {},
   "outputs": [
    {
     "data": {
      "text/plain": [
       "1.2559604108274824"
      ]
     },
     "execution_count": 81,
     "metadata": {},
     "output_type": "execute_result"
    }
   ],
   "source": [
    "from sklearn.metrics import davies_bouldin_score\n",
    "dav_kmeans2 = davies_bouldin_score(X2, y_kmeans2)\n",
    "dav_kmeans2"
   ]
  },
  {
   "cell_type": "markdown",
   "id": "748aaf41",
   "metadata": {},
   "source": [
    "### Calinski Harabasz Score"
   ]
  },
  {
   "cell_type": "code",
   "execution_count": 107,
   "id": "89e49fa8",
   "metadata": {},
   "outputs": [
    {
     "name": "stdout",
     "output_type": "stream",
     "text": [
      "Calinski-Harabasz index: 96.37944307387177\n"
     ]
    }
   ],
   "source": [
    "from sklearn.metrics import calinski_harabasz_score\n",
    "# Calculate the Calinski-Harabasz index\n",
    "score = calinski_harabasz_score(X2, y_kmeans2)\n",
    "\n",
    "print(\"Calinski-Harabasz index:\", score)"
   ]
  },
  {
   "cell_type": "markdown",
   "id": "c36cc611",
   "metadata": {},
   "source": [
    "### Dunn's Index"
   ]
  },
  {
   "cell_type": "code",
   "execution_count": 122,
   "id": "02601e5a",
   "metadata": {},
   "outputs": [
    {
     "name": "stdout",
     "output_type": "stream",
     "text": [
      "The Dunn's Index: 0.9883902859246557\n"
     ]
    }
   ],
   "source": [
    "# We store the K-means results in a dataframe\n",
    "pred = pd.DataFrame(y_kmeans2)\n",
    "pred.columns = ['Type']\n",
    "\n",
    "# we merge this dataframe with df\n",
    "prediction = pd.concat([X2, pred], axis = 1)\n",
    " \n",
    "# We store the clusters\n",
    "clus0 = prediction.loc[prediction.Type == 0]\n",
    "clus1 = prediction.loc[prediction.Type == 1]\n",
    "k_list = [clus0.values, clus1.values]\n",
    "k_list\n",
    "\n",
    "# Dunn's Index\n",
    "print(\"The Dunn's Index:\", dunn(k_list))"
   ]
  },
  {
   "cell_type": "markdown",
   "id": "a4c08dd0",
   "metadata": {},
   "source": [
    "## Agglomerative HC"
   ]
  },
  {
   "cell_type": "code",
   "execution_count": 82,
   "id": "1e8d8dbf",
   "metadata": {},
   "outputs": [
    {
     "data": {
      "image/png": "[encoded data removed]",
      "text/plain": [
       "<Figure size 500x300 with 1 Axes>"
      ]
     },
     "metadata": {},
     "output_type": "display_data"
    }
   ],
   "source": [
    "import scipy.cluster.hierarchy as sch\n",
    "dendrogram = sch.dendrogram(sch.linkage(X2, method='ward'))\n",
    "plt.title('Dendrogram')\n",
    "plt.xlabel('Customer')\n",
    "plt.ylabel('Euclidean distance')\n",
    "plt.show();"
   ]
  },
  {
   "cell_type": "markdown",
   "id": "30fc4704",
   "metadata": {},
   "source": [
    "#### We get 2 clusters"
   ]
  },
  {
   "cell_type": "code",
   "execution_count": 127,
   "id": "151dcf51",
   "metadata": {},
   "outputs": [
    {
     "name": "stdout",
     "output_type": "stream",
     "text": [
      "[0 0 0 0 0 0 0 0 0 0 0 0 0 0 0 0 0 0 0 0 0 0 0 0 0 0 0 0 0 0 0 0 0 0 0 0 0\n",
      " 0 0 0 0 0 0 0 0 0 0 0 0 0 0 0 0 0 0 0 0 0 0 0 0 0 0 0 0 0 0 0 0 0 0 0 0 0\n",
      " 0 0 0 0 0 0 0 0 0 1 0 0 0 0 0 0 0 0 0 0 0 0 1 0 0 0 0 0 0 0 0 0 0 0 0 0 0\n",
      " 0 0 0 0 0 0 0 1 0 0 0 0 0 0 0 0 0 0 0 1 1 1 1 1 1 1 1 1 1 1 1 1 1 1 1 1 1\n",
      " 1 1 1 1 1 1 1 1 1 1 1 1 1 1 1 1 1 1 1 1 1 1 1 1 1 1 1 1 1 1]\n",
      "[0 1]\n"
     ]
    }
   ],
   "source": [
    "from sklearn.cluster import AgglomerativeClustering\n",
    "hc = AgglomerativeClustering(n_clusters = 2, affinity = 'euclidean', linkage = 'ward')\n",
    "y_hc2 = hc.fit_predict(X2)\n",
    "print(y_hc2)\n",
    "print(np.unique(y_hc2))"
   ]
  },
  {
   "cell_type": "markdown",
   "id": "2d2efed9",
   "metadata": {},
   "source": [
    "### Silhouette Score"
   ]
  },
  {
   "cell_type": "code",
   "execution_count": 84,
   "id": "183e3d68",
   "metadata": {},
   "outputs": [
    {
     "data": {
      "text/plain": [
       "0.33965299241766683"
      ]
     },
     "execution_count": 84,
     "metadata": {},
     "output_type": "execute_result"
    }
   ],
   "source": [
    "from sklearn.metrics import silhouette_score\n",
    "sil_hc2 = silhouette_score(X2,y_hc2)\n",
    "sil_hc2"
   ]
  },
  {
   "cell_type": "markdown",
   "id": "4c61a9ac",
   "metadata": {},
   "source": [
    "### Davies Bouldin Index"
   ]
  },
  {
   "cell_type": "code",
   "execution_count": 85,
   "id": "5ce3d591",
   "metadata": {},
   "outputs": [
    {
     "data": {
      "text/plain": [
       "1.1798234778040104"
      ]
     },
     "execution_count": 85,
     "metadata": {},
     "output_type": "execute_result"
    }
   ],
   "source": [
    "from sklearn.metrics import davies_bouldin_score\n",
    "dav_hc2 = davies_bouldin_score(X2, y_hc2)\n",
    "dav_hc2"
   ]
  },
  {
   "cell_type": "markdown",
   "id": "b18c0f19",
   "metadata": {},
   "source": [
    "### Calinski Harabasz Index"
   ]
  },
  {
   "cell_type": "code",
   "execution_count": 108,
   "id": "15731dd3",
   "metadata": {},
   "outputs": [
    {
     "name": "stdout",
     "output_type": "stream",
     "text": [
      "Calinski-Harabasz index: 90.06764373689694\n"
     ]
    }
   ],
   "source": [
    "from sklearn.metrics import calinski_harabasz_score\n",
    "# Calculate the Calinski-Harabasz index\n",
    "score = calinski_harabasz_score(X2, y_hc2)\n",
    "\n",
    "print(\"Calinski-Harabasz index:\", score)"
   ]
  },
  {
   "cell_type": "markdown",
   "id": "e89f1bed",
   "metadata": {},
   "source": [
    "### Dunn's Index"
   ]
  },
  {
   "cell_type": "code",
   "execution_count": 128,
   "id": "86c701da",
   "metadata": {},
   "outputs": [
    {
     "name": "stdout",
     "output_type": "stream",
     "text": [
      "The Dunn's Index: 0.9883902859246557\n"
     ]
    }
   ],
   "source": [
    "# We store the K-means results in a dataframe\n",
    "pred = pd.DataFrame(y_hc2)\n",
    "pred.columns = ['Type']\n",
    "\n",
    "# we merge this dataframe with df\n",
    "prediction = pd.concat([X2, pred], axis = 1)\n",
    " \n",
    "# We store the clusters\n",
    "clus0 = prediction.loc[prediction.Type == 0]\n",
    "clus1 = prediction.loc[prediction.Type == 1]\n",
    "k_list = [clus0.values, clus1.values]\n",
    "k_list\n",
    "\n",
    "# Dunn's Index\n",
    "print(\"The Dunn's Index:\", dunn(k_list))"
   ]
  },
  {
   "cell_type": "markdown",
   "id": "13e9a9de",
   "metadata": {},
   "source": [
    "## DBSCAN"
   ]
  },
  {
   "cell_type": "code",
   "execution_count": 86,
   "id": "d24f0080",
   "metadata": {
    "scrolled": true
   },
   "outputs": [
    {
     "data": {
      "image/png": "[encoded data removed]",
      "text/plain": [
       "<Figure size 500x300 with 1 Axes>"
      ]
     },
     "metadata": {},
     "output_type": "display_data"
    }
   ],
   "source": [
    "from sklearn.neighbors import NearestNeighbors # importing the library\n",
    "neighb = NearestNeighbors(n_neighbors=20) # creating an object of the NearestNeighbors class\n",
    "nbrs=neighb.fit(X2) # fitting the data to the object\n",
    "distances,indices=nbrs.kneighbors(X2) # finding the nearest neighbours\n",
    "\n",
    "# Sort and plot the distances results\n",
    "distances = np.sort(distances, axis = 0) # sorting the distances\n",
    "distances = distances[:, 1] # taking the second column of the sorted distances\n",
    "plt.rcParams['figure.figsize'] = (5,3) # setting the figure size\n",
    "plt.plot(distances) # plotting the distances\n",
    "plt.show(); # showing the plot"
   ]
  },
  {
   "cell_type": "code",
   "execution_count": 87,
   "id": "d77ef916",
   "metadata": {},
   "outputs": [
    {
     "name": "stdout",
     "output_type": "stream",
     "text": [
      "Best silhouette_score: 0.30021954123017863\n",
      "min_samples: 18\n",
      "eps: 0.36000000000000004\n"
     ]
    }
   ],
   "source": [
    "min_samples = range(10,21)\n",
    "eps = np.arange(0.3,0.47, 0.01) # returns array of ranging  with step of 0.01\n",
    "\n",
    "output = []\n",
    "\n",
    "for ms in min_samples:\n",
    "    for ep in eps:\n",
    "        labels = DBSCAN(min_samples=ms, eps = ep).fit(X2).labels_\n",
    "        score = silhouette_score(X2, labels)\n",
    "        output.append((ms, ep, score))\n",
    "\n",
    "# get the best silhouette score\n",
    "min_samples, eps, score = sorted(output, key=lambda x:x[-1])[-1]\n",
    "print(f\"Best silhouette_score: {score}\")\n",
    "print(f\"min_samples: {min_samples}\")\n",
    "print(f\"eps: {eps}\")"
   ]
  },
  {
   "cell_type": "code",
   "execution_count": 125,
   "id": "bb2b0e0e",
   "metadata": {
    "scrolled": true
   },
   "outputs": [
    {
     "name": "stdout",
     "output_type": "stream",
     "text": [
      "[ 0  0  0  0  0  0  0  0  0  0  0  0  0  0  0  0  0  0  0  0  0  0  0  0\n",
      "  0  0  0  0  0  0  0  0  0  0  0  0  0  0  0  0  0  0  0  0  0  0  0  0\n",
      "  0  0  0  0  0  0  0  0  0  0  0 -1 -1  1  0  0  0  0  0  0  0 -1 -1  0\n",
      "  0  0  0  0  0  0 -1  0  0  0  0  1  0  0  0  0  0  0  0  0  0  0  0 -1\n",
      " -1  0  0  0  0  0  0  0  0  0  0  0  0  0 -1  0  0  0  0  0  0  0  1  0\n",
      "  0  0  0  0  0  0  0  0  0  0 -1  1  1 -1  1  1  1  1  1  1  1  1  1  1\n",
      "  1  1  1  1  1  1  1  1  1  1  1  1  1  1  1  1  1  1  1  1  1  1  1  1\n",
      "  1  1  1  1  1  1  1  1  1  1]\n",
      "[-1  0  1]\n"
     ]
    }
   ],
   "source": [
    "from sklearn.cluster import DBSCAN\n",
    "dbscan = DBSCAN(eps = eps, min_samples = min_samples) # fitting the model\n",
    "y_db2 = dbscan.fit_predict(X2)\n",
    "print(y_db2)\n",
    "print(np.unique(y_db2))"
   ]
  },
  {
   "cell_type": "markdown",
   "id": "60dee395",
   "metadata": {},
   "source": [
    "### Plotting DBSCAN Clusters"
   ]
  },
  {
   "cell_type": "code",
   "execution_count": 89,
   "id": "4058eb69",
   "metadata": {},
   "outputs": [
    {
     "name": "stdout",
     "output_type": "stream",
     "text": [
      "Cluster labels [ 0  0  0  0  0  0  0  0  0  0  0  0  0  0  0  0  0  0  0  0  0  0  0  0\n",
      "  0  0  0  0  0  0  0  0  0  0  0  0  0  0  0  0  0  0  0  0  0  0  0  0\n",
      "  0  0  0  0  0  0  0  0  0  0  0 -1 -1  1  0  0  0  0  0  0  0 -1 -1  0\n",
      "  0  0  0  0  0  0 -1  0  0  0  0  1  0  0  0  0  0  0  0  0  0  0  0 -1\n",
      " -1  0  0  0  0  0  0  0  0  0  0  0  0  0 -1  0  0  0  0  0  0  0  1  0\n",
      "  0  0  0  0  0  0  0  0  0  0 -1  1  1 -1  1  1  1  1  1  1  1  1  1  1\n",
      "  1  1  1  1  1  1  1  1  1  1  1  1  1  1  1  1  1  1  1  1  1  1  1  1\n",
      "  1  1  1  1  1  1  1  1  1  1]\n",
      "count per label Counter({0: 119, 1: 49, -1: 10})\n",
      "[t-SNE] Computing 91 nearest neighbors...\n",
      "[t-SNE] Indexed 178 samples in 0.000s...\n",
      "[t-SNE] Computed neighbors for 178 samples in 0.008s...\n",
      "[t-SNE] Computed conditional probabilities for sample 178 / 178\n",
      "[t-SNE] Mean sigma: 0.179401\n"
     ]
    },
    {
     "name": "stderr",
     "output_type": "stream",
     "text": [
      "C:\\Users\\HARIKRISHNAN M\\anaconda3\\lib\\site-packages\\sklearn\\manifold\\_t_sne.py:780: FutureWarning: The default initialization in TSNE will change from 'random' to 'pca' in 1.2.\n",
      "  warnings.warn(\n",
      "C:\\Users\\HARIKRISHNAN M\\anaconda3\\lib\\site-packages\\sklearn\\manifold\\_t_sne.py:790: FutureWarning: The default learning rate in TSNE will change from 200.0 to 'auto' in 1.2.\n",
      "  warnings.warn(\n"
     ]
    },
    {
     "name": "stdout",
     "output_type": "stream",
     "text": [
      "[t-SNE] KL divergence after 250 iterations with early exaggeration: 58.439007\n",
      "[t-SNE] KL divergence after 1000 iterations: 0.372118\n"
     ]
    },
    {
     "data": {
      "image/png": "[encoded data removed]",
      "text/plain": [
       "<Figure size 500x300 with 1 Axes>"
      ]
     },
     "metadata": {},
     "output_type": "display_data"
    }
   ],
   "source": [
    "# for the plot\n",
    "clusters = DBSCAN(eps=eps, min_samples=min_samples).fit(X2)\n",
    "# get cluster labels\n",
    "print(\"Cluster labels\",clusters.labels_)\n",
    "\n",
    "# check unique clusters\n",
    "set(clusters.labels_)\n",
    "# -1 value represents noisy points could not assigned to any cluster\n",
    "\n",
    "from collections import Counter\n",
    "count_per_label = Counter(clusters.labels_)\n",
    "print(\"count per label\",count_per_label)\n",
    "\n",
    "# computing tsne but if feature is >50, go for PCA first then tsne\n",
    "from sklearn.manifold import TSNE\n",
    "tsne = TSNE(n_components=2, verbose=1, perplexity=30)\n",
    "tsne_results = tsne.fit_transform(X2)\n",
    "\n",
    "# for visualization of DBSCAN clustering\n",
    "X2a = X2.copy()\n",
    "X2a['t-SNE-1'] = tsne_results[:,0]\n",
    "X2a['t-SNE-2'] = tsne_results[:,1]\n",
    "p = sns.scatterplot(data=X2a, x=\"t-SNE-1\", y=\"t-SNE-2\", hue=clusters.labels_, legend=\"full\", palette=\"deep\")\n",
    "sns.move_legend(p, \"upper right\", bbox_to_anchor=(1.17, 1.2), title='Clusters')\n",
    "plt.show()"
   ]
  },
  {
   "cell_type": "markdown",
   "id": "02a64672",
   "metadata": {},
   "source": [
    "### Instead of t-SNE, PCA can be also be used for plotting and we can see the difference. t-SNE plots good as compared to PCA."
   ]
  },
  {
   "cell_type": "markdown",
   "id": "00fd6917",
   "metadata": {},
   "source": [
    "#### See the point is both converges the data to 2 dimension so that we can plot but much of variance is lost in PCA a compared to t-SNE"
   ]
  },
  {
   "cell_type": "code",
   "execution_count": 90,
   "id": "401b6f9e",
   "metadata": {},
   "outputs": [
    {
     "data": {
      "text/plain": [
       "(178, 2)"
      ]
     },
     "execution_count": 90,
     "metadata": {},
     "output_type": "execute_result"
    }
   ],
   "source": [
    "from sklearn.decomposition import PCA\n",
    "pca = PCA(n_components = 2)\n",
    "pca.fit(X2)\n",
    "X2_pca = pca.fit_transform(X2)\n",
    "X2_pca.shape"
   ]
  },
  {
   "cell_type": "code",
   "execution_count": 91,
   "id": "bf7365bf",
   "metadata": {
    "scrolled": true
   },
   "outputs": [
    {
     "data": {
      "image/png": "[encoded data removed]",
      "text/plain": [
       "<Figure size 500x300 with 1 Axes>"
      ]
     },
     "metadata": {},
     "output_type": "display_data"
    }
   ],
   "source": [
    "X2_pcaa = X2.copy()\n",
    "X2_pcaa['PCA-1'] = X2_pca[:,0]\n",
    "X2_pcaa['PCA-2'] = X2_pca[:,1]\n",
    "p = sns.scatterplot(data=X2_pcaa, x=\"PCA-1\", y=\"PCA-2\", hue=clusters.labels_, legend=\"full\", palette=\"deep\")\n",
    "sns.move_legend(p, \"upper right\", bbox_to_anchor=(1.17, 1.2), title='Clusters')\n",
    "plt.show()"
   ]
  },
  {
   "cell_type": "markdown",
   "id": "cf2147f1",
   "metadata": {},
   "source": [
    "### Silhoutte Score"
   ]
  },
  {
   "cell_type": "code",
   "execution_count": 92,
   "id": "fb60db82",
   "metadata": {},
   "outputs": [
    {
     "data": {
      "text/plain": [
       "0.30021954123017863"
      ]
     },
     "execution_count": 92,
     "metadata": {},
     "output_type": "execute_result"
    }
   ],
   "source": [
    "from sklearn.metrics import silhouette_score\n",
    "sil_db2 = silhouette_score(X2,y_db2)\n",
    "sil_db2"
   ]
  },
  {
   "cell_type": "markdown",
   "id": "1a35bc71",
   "metadata": {},
   "source": [
    "### Davies Bouldin Index"
   ]
  },
  {
   "cell_type": "code",
   "execution_count": 93,
   "id": "b949afaa",
   "metadata": {},
   "outputs": [
    {
     "data": {
      "text/plain": [
       "2.1153146747328484"
      ]
     },
     "execution_count": 93,
     "metadata": {},
     "output_type": "execute_result"
    }
   ],
   "source": [
    "from sklearn.metrics import davies_bouldin_score\n",
    "dav_db2 = davies_bouldin_score(X2, y_db2)\n",
    "dav_db2"
   ]
  },
  {
   "cell_type": "markdown",
   "id": "87167782",
   "metadata": {},
   "source": [
    "### Calinski Harabasz Score"
   ]
  },
  {
   "cell_type": "code",
   "execution_count": 109,
   "id": "c6923be6",
   "metadata": {},
   "outputs": [
    {
     "name": "stdout",
     "output_type": "stream",
     "text": [
      "Calinski-Harabasz index: 50.747385542185995\n"
     ]
    }
   ],
   "source": [
    "from sklearn.metrics import calinski_harabasz_score\n",
    "# Calculate the Calinski-Harabasz index\n",
    "score = calinski_harabasz_score(X2, y_db2)\n",
    "\n",
    "print(\"Calinski-Harabasz index:\", score)"
   ]
  },
  {
   "cell_type": "markdown",
   "id": "0acc1475",
   "metadata": {},
   "source": [
    "### Dunn's Index"
   ]
  },
  {
   "cell_type": "code",
   "execution_count": 126,
   "id": "1cc951ca",
   "metadata": {},
   "outputs": [
    {
     "name": "stdout",
     "output_type": "stream",
     "text": [
      "The Dunn's Index: 1.0157682469704792\n"
     ]
    }
   ],
   "source": [
    "# We store the K-means results in a dataframe\n",
    "pred = pd.DataFrame(y_db2)\n",
    "pred.columns = ['Type']\n",
    "\n",
    "# we merge this dataframe with df\n",
    "prediction = pd.concat([X2, pred], axis = 1)\n",
    " \n",
    "# We store the clusters\n",
    "clus0 = prediction.loc[prediction.Type == 0]\n",
    "clus1 = prediction.loc[prediction.Type == 1]\n",
    "clus2 = prediction.loc[prediction.Type == -1]\n",
    "k_list = [clus0.values, clus1.values,clus2.values]\n",
    "k_list\n",
    "\n",
    "# Dunn's Index\n",
    "print(\"The Dunn's Index:\", dunn(k_list))"
   ]
  },
  {
   "cell_type": "markdown",
   "id": "9f687a24",
   "metadata": {},
   "source": [
    "#### So, normalization yields the best score as compared to both the scaling methods"
   ]
  },
  {
   "cell_type": "markdown",
   "id": "77a8de04",
   "metadata": {},
   "source": [
    "## KMeans Clustering on Normalized data gave a Silhouette Score of 0.33 with Calinski Harabasz score of 96, both of which are comparatively better in this method as compared to other clustering methods. In addition, Dunn's Index and Davies Bouldin Index supported this finding"
   ]
  }
 ],
 "metadata": {
  "kernelspec": {
   "display_name": "Python 3 (ipykernel)",
   "language": "python",
   "name": "python3"
  },
  "language_info": {
   "codemirror_mode": {
    "name": "ipython",
    "version": 3
   },
   "file_extension": ".py",
   "mimetype": "text/x-python",
   "name": "python",
   "nbconvert_exporter": "python",
   "pygments_lexer": "ipython3",
   "version": "3.9.13"
  }
 },
 "nbformat": 4,
 "nbformat_minor": 5
}
